{
 "cells": [
  {
   "cell_type": "markdown",
   "id": "a04938f3",
   "metadata": {},
   "source": [
    "# 0.0 IMPORTS"
   ]
  },
  {
   "cell_type": "code",
   "execution_count": 1,
   "id": "3411d979",
   "metadata": {
    "ExecuteTime": {
     "end_time": "2023-05-13T23:41:54.829452Z",
     "start_time": "2023-05-13T23:41:47.313535Z"
    }
   },
   "outputs": [],
   "source": [
    "import pandas     as pd\n",
    "import numpy      as np\n",
    "import seaborn    as sns\n",
    "import umap.umap_ as umap\n",
    "\n",
    "import inflection\n",
    "import sqlite3\n",
    "import re\n",
    "\n",
    "from sklearn.manifold  import TSNE\n",
    "from sqlalchemy        import create_engine\n",
    "\n",
    "from matplotlib        import pyplot           as plt\n",
    "from scipy.cluster     import hierarchy        as hc\n",
    "from sklearn.neighbors import NearestNeighbors as nn\n",
    "from sklearn           import cluster          as c\n",
    "from sklearn           import mixture          as mx\n",
    "from sklearn           import preprocessing    as pp\n",
    "from sklearn           import metrics          as m\n",
    "from sklearn           import decomposition    as dd\n",
    "from sklearn           import ensemble         as en\n",
    "from plotly            import express          as px"
   ]
  },
  {
   "cell_type": "markdown",
   "id": "d23c85ea",
   "metadata": {},
   "source": [
    "## 0.2 Load Dataset"
   ]
  },
  {
   "cell_type": "code",
   "execution_count": 2,
   "id": "d1b32144",
   "metadata": {
    "ExecuteTime": {
     "end_time": "2023-05-13T23:41:55.623577Z",
     "start_time": "2023-05-13T23:41:54.832282Z"
    }
   },
   "outputs": [],
   "source": [
    "# Load dataset\n",
    "df_raw = pd.read_csv( '/home/jeffsmedines/repos/loyalty_program/data/raw/Ecommerce.csv', encoding='unicode_escape' )\n",
    "\n",
    "# Drop NA Column\n",
    "df_raw = df_raw.drop( columns=['Unnamed: 8'] )"
   ]
  },
  {
   "cell_type": "markdown",
   "id": "7ca74aea",
   "metadata": {},
   "source": [
    "# 1.0 DATA DESCRIPTION"
   ]
  },
  {
   "cell_type": "code",
   "execution_count": 3,
   "id": "0fa68dd6",
   "metadata": {
    "ExecuteTime": {
     "end_time": "2023-05-13T23:41:55.653185Z",
     "start_time": "2023-05-13T23:41:55.626170Z"
    }
   },
   "outputs": [],
   "source": [
    "df1 = df_raw.copy()"
   ]
  },
  {
   "cell_type": "markdown",
   "id": "317f76c7",
   "metadata": {},
   "source": [
    "## 1.1 Rename Columns"
   ]
  },
  {
   "cell_type": "code",
   "execution_count": 4,
   "id": "f5b1a66f",
   "metadata": {
    "ExecuteTime": {
     "end_time": "2023-05-13T23:41:55.665535Z",
     "start_time": "2023-05-13T23:41:55.656387Z"
    }
   },
   "outputs": [],
   "source": [
    "columns = df1.columns\n",
    "new_columns = [inflection.underscore( x ) for x in columns]\n",
    "df1.columns = new_columns"
   ]
  },
  {
   "cell_type": "markdown",
   "id": "b59b4578",
   "metadata": {},
   "source": [
    "## 1.2 Data Dimensions"
   ]
  },
  {
   "cell_type": "code",
   "execution_count": 5,
   "id": "214d31de",
   "metadata": {
    "ExecuteTime": {
     "end_time": "2023-05-13T23:41:55.685352Z",
     "start_time": "2023-05-13T23:41:55.669035Z"
    }
   },
   "outputs": [
    {
     "name": "stdout",
     "output_type": "stream",
     "text": [
      "Number of Rows: 541909\n",
      "Number of Columns: 8\n"
     ]
    }
   ],
   "source": [
    "print( f'Number of Rows: {df1.shape[0]}' )\n",
    "print( f'Number of Columns: {df1.shape[1]}' )"
   ]
  },
  {
   "cell_type": "markdown",
   "id": "a95a75a5",
   "metadata": {},
   "source": [
    "## 1.3 Data Types"
   ]
  },
  {
   "cell_type": "code",
   "execution_count": 6,
   "id": "2001b7a3",
   "metadata": {
    "ExecuteTime": {
     "end_time": "2023-05-13T23:41:55.698700Z",
     "start_time": "2023-05-13T23:41:55.688734Z"
    }
   },
   "outputs": [
    {
     "data": {
      "text/plain": [
       "invoice_no       object\n",
       "stock_code       object\n",
       "description      object\n",
       "quantity          int64\n",
       "invoice_date     object\n",
       "unit_price      float64\n",
       "customer_id     float64\n",
       "country          object\n",
       "dtype: object"
      ]
     },
     "execution_count": 6,
     "metadata": {},
     "output_type": "execute_result"
    }
   ],
   "source": [
    "df1.dtypes"
   ]
  },
  {
   "cell_type": "markdown",
   "id": "170ecc25",
   "metadata": {},
   "source": [
    "## 1.4 Check NA's"
   ]
  },
  {
   "cell_type": "code",
   "execution_count": 7,
   "id": "bea808d7",
   "metadata": {
    "ExecuteTime": {
     "end_time": "2023-05-13T23:41:56.004573Z",
     "start_time": "2023-05-13T23:41:55.701610Z"
    }
   },
   "outputs": [
    {
     "data": {
      "text/plain": [
       "invoice_no           0\n",
       "stock_code           0\n",
       "description       1454\n",
       "quantity             0\n",
       "invoice_date         0\n",
       "unit_price           0\n",
       "customer_id     135080\n",
       "country              0\n",
       "dtype: int64"
      ]
     },
     "execution_count": 7,
     "metadata": {},
     "output_type": "execute_result"
    }
   ],
   "source": [
    "df1.isna().sum()"
   ]
  },
  {
   "cell_type": "markdown",
   "id": "980e2324",
   "metadata": {},
   "source": [
    "## 1.5 Replace NA's"
   ]
  },
  {
   "cell_type": "code",
   "execution_count": 8,
   "id": "d8324f92",
   "metadata": {
    "ExecuteTime": {
     "end_time": "2023-05-13T23:41:56.086735Z",
     "start_time": "2023-05-13T23:41:56.007195Z"
    }
   },
   "outputs": [],
   "source": [
    "# Dataframe missing customer id\n",
    "df_missing = df1.loc[df1['customer_id'].isna(), :].copy()\n",
    "\n",
    "# Dataframe with customer id\n",
    "df_not_missing = df1.loc[~df1['customer_id'].isna(), :].copy()"
   ]
  },
  {
   "cell_type": "code",
   "execution_count": 9,
   "id": "299e02e6",
   "metadata": {
    "ExecuteTime": {
     "end_time": "2023-05-13T23:41:56.257282Z",
     "start_time": "2023-05-13T23:41:56.089522Z"
    }
   },
   "outputs": [],
   "source": [
    "# Create dataframe reference\n",
    "df_backup = pd.DataFrame( df_missing['invoice_no'].drop_duplicates() )\n",
    "df_backup['customer_id'] = np.arange( 19000, 19000 + len( df_backup ), 1 )\n",
    "\n",
    "# Merge original dataframe to reference\n",
    "df1 = pd.merge( df1, df_backup, on='invoice_no', how='left' )\n",
    "\n",
    "# Coalesce (merge id columns)\n",
    "df1['customer_id'] = df1['customer_id_x'].combine_first( df1['customer_id_y'] )\n",
    "\n",
    "# Drop extre id columns\n",
    "df1 = df1.drop( columns=['customer_id_x', 'customer_id_y'] )"
   ]
  },
  {
   "cell_type": "code",
   "execution_count": 10,
   "id": "3249b67f",
   "metadata": {
    "ExecuteTime": {
     "end_time": "2023-05-13T23:41:56.563270Z",
     "start_time": "2023-05-13T23:41:56.259774Z"
    }
   },
   "outputs": [
    {
     "data": {
      "text/plain": [
       "invoice_no         0\n",
       "stock_code         0\n",
       "description     1454\n",
       "quantity           0\n",
       "invoice_date       0\n",
       "unit_price         0\n",
       "country            0\n",
       "customer_id        0\n",
       "dtype: int64"
      ]
     },
     "execution_count": 10,
     "metadata": {},
     "output_type": "execute_result"
    }
   ],
   "source": [
    "df1.isna().sum()"
   ]
  },
  {
   "cell_type": "markdown",
   "id": "9bb2e941",
   "metadata": {},
   "source": [
    "## 1.6 Change Data Types"
   ]
  },
  {
   "cell_type": "code",
   "execution_count": 11,
   "id": "c698ecd2",
   "metadata": {
    "ExecuteTime": {
     "end_time": "2023-05-13T23:41:56.619890Z",
     "start_time": "2023-05-13T23:41:56.566386Z"
    }
   },
   "outputs": [],
   "source": [
    "# Invoice Date\n",
    "df1['invoice_date'] = pd.to_datetime( df1['invoice_date'], format='%d-%b-%y' )\n",
    "\n",
    "# Customer ID\n",
    "df1['customer_id'] = df1['customer_id'].astype( int )"
   ]
  },
  {
   "cell_type": "code",
   "execution_count": 12,
   "id": "f096c78a",
   "metadata": {
    "ExecuteTime": {
     "end_time": "2023-05-13T23:41:56.631183Z",
     "start_time": "2023-05-13T23:41:56.623809Z"
    }
   },
   "outputs": [
    {
     "data": {
      "text/plain": [
       "invoice_no              object\n",
       "stock_code              object\n",
       "description             object\n",
       "quantity                 int64\n",
       "invoice_date    datetime64[ns]\n",
       "unit_price             float64\n",
       "country                 object\n",
       "customer_id              int64\n",
       "dtype: object"
      ]
     },
     "execution_count": 12,
     "metadata": {},
     "output_type": "execute_result"
    }
   ],
   "source": [
    "df1.dtypes"
   ]
  },
  {
   "cell_type": "markdown",
   "id": "111592a7",
   "metadata": {},
   "source": [
    "## 1.7 Descriptive Statistics"
   ]
  },
  {
   "cell_type": "code",
   "execution_count": 13,
   "id": "25c5f6aa",
   "metadata": {
    "ExecuteTime": {
     "end_time": "2023-05-13T23:41:56.715269Z",
     "start_time": "2023-05-13T23:41:56.634483Z"
    }
   },
   "outputs": [],
   "source": [
    "num_attributes = df1.select_dtypes( include=['int64', 'float64'] )\n",
    "cat_attributes = df1.select_dtypes( exclude=['int64', 'float64', 'datetime64[ns]'] )"
   ]
  },
  {
   "cell_type": "markdown",
   "id": "73c1391c",
   "metadata": {},
   "source": [
    "### 1.7.1 Numerical Attributes"
   ]
  },
  {
   "cell_type": "code",
   "execution_count": 14,
   "id": "6d3f677c",
   "metadata": {
    "ExecuteTime": {
     "end_time": "2023-05-13T23:41:56.821653Z",
     "start_time": "2023-05-13T23:41:56.720589Z"
    }
   },
   "outputs": [
    {
     "data": {
      "text/html": [
       "<div>\n",
       "<style scoped>\n",
       "    .dataframe tbody tr th:only-of-type {\n",
       "        vertical-align: middle;\n",
       "    }\n",
       "\n",
       "    .dataframe tbody tr th {\n",
       "        vertical-align: top;\n",
       "    }\n",
       "\n",
       "    .dataframe thead th {\n",
       "        text-align: right;\n",
       "    }\n",
       "</style>\n",
       "<table border=\"1\" class=\"dataframe\">\n",
       "  <thead>\n",
       "    <tr style=\"text-align: right;\">\n",
       "      <th></th>\n",
       "      <th>attributes</th>\n",
       "      <th>min</th>\n",
       "      <th>max</th>\n",
       "      <th>range</th>\n",
       "      <th>mean</th>\n",
       "      <th>median</th>\n",
       "      <th>std</th>\n",
       "      <th>skew</th>\n",
       "      <th>kurtosis</th>\n",
       "    </tr>\n",
       "  </thead>\n",
       "  <tbody>\n",
       "    <tr>\n",
       "      <th>0</th>\n",
       "      <td>quantity</td>\n",
       "      <td>-80995.00</td>\n",
       "      <td>80995.0</td>\n",
       "      <td>161990.00</td>\n",
       "      <td>9.552250</td>\n",
       "      <td>3.00</td>\n",
       "      <td>218.080957</td>\n",
       "      <td>-0.264076</td>\n",
       "      <td>119769.160031</td>\n",
       "    </tr>\n",
       "    <tr>\n",
       "      <th>1</th>\n",
       "      <td>unit_price</td>\n",
       "      <td>-11062.06</td>\n",
       "      <td>38970.0</td>\n",
       "      <td>50032.06</td>\n",
       "      <td>4.611114</td>\n",
       "      <td>2.08</td>\n",
       "      <td>96.759764</td>\n",
       "      <td>186.506972</td>\n",
       "      <td>59005.719097</td>\n",
       "    </tr>\n",
       "    <tr>\n",
       "      <th>2</th>\n",
       "      <td>customer_id</td>\n",
       "      <td>12346.00</td>\n",
       "      <td>22709.0</td>\n",
       "      <td>10363.00</td>\n",
       "      <td>16688.840453</td>\n",
       "      <td>16249.00</td>\n",
       "      <td>2911.408666</td>\n",
       "      <td>0.487449</td>\n",
       "      <td>-0.804287</td>\n",
       "    </tr>\n",
       "  </tbody>\n",
       "</table>\n",
       "</div>"
      ],
      "text/plain": [
       "    attributes       min      max      range          mean    median  \\\n",
       "0     quantity -80995.00  80995.0  161990.00      9.552250      3.00   \n",
       "1   unit_price -11062.06  38970.0   50032.06      4.611114      2.08   \n",
       "2  customer_id  12346.00  22709.0   10363.00  16688.840453  16249.00   \n",
       "\n",
       "           std        skew       kurtosis  \n",
       "0   218.080957   -0.264076  119769.160031  \n",
       "1    96.759764  186.506972   59005.719097  \n",
       "2  2911.408666    0.487449      -0.804287  "
      ]
     },
     "execution_count": 14,
     "metadata": {},
     "output_type": "execute_result"
    }
   ],
   "source": [
    "# Central tendency\n",
    "ct1 = pd.DataFrame( num_attributes.apply( np.mean ) ).T\n",
    "ct2 = pd.DataFrame( num_attributes.apply( np.median ) ).T\n",
    "\n",
    "\n",
    "# Dispersion \n",
    "d1 = pd.DataFrame( num_attributes.apply( np.std ) ).T\n",
    "d2 = pd.DataFrame( num_attributes.apply( np.min ) ).T\n",
    "d3 = pd.DataFrame( num_attributes.apply( np.max ) ).T\n",
    "d4 = pd.DataFrame( num_attributes.apply( lambda x: x.max() - x.min() ) ).T\n",
    "d5 = pd.DataFrame( num_attributes.apply( lambda x: x.skew() ) ).T\n",
    "d6 = pd.DataFrame( num_attributes.apply( lambda x: x.kurtosis() ) ).T\n",
    "\n",
    "# Concat\n",
    "ds = pd.concat( [d2, d3, d4, ct1, ct2, d1, d5, d6] ).T.reset_index()\n",
    "ds.columns = ['attributes', 'min', 'max', 'range', 'mean', 'median', 'std', 'skew', 'kurtosis']\n",
    "ds"
   ]
  },
  {
   "cell_type": "markdown",
   "id": "333d1f84",
   "metadata": {},
   "source": [
    "### 1.7.2 Categorical Attributes"
   ]
  },
  {
   "cell_type": "markdown",
   "id": "9ab51104",
   "metadata": {},
   "source": [
    "#### Invoice Number"
   ]
  },
  {
   "cell_type": "code",
   "execution_count": 15,
   "id": "7edcfa00",
   "metadata": {
    "ExecuteTime": {
     "end_time": "2023-05-13T23:41:57.806939Z",
     "start_time": "2023-05-13T23:41:56.824619Z"
    }
   },
   "outputs": [
    {
     "name": "stdout",
     "output_type": "stream",
     "text": [
      "Total number of unique invoice with letters: 3839\n",
      "Total number of invoice with letters: 9291\n",
      "Total number of negative quantity: 10624\n"
     ]
    }
   ],
   "source": [
    "# Invoice number with letters and unique values\n",
    "a = len(cat_attributes.loc[cat_attributes['invoice_no'].apply( lambda x: bool( re.search( '[^0-9]+', x ) ) ), 'invoice_no'].drop_duplicates())\n",
    "\n",
    "# Invoice number with letters\n",
    "b = len(cat_attributes.loc[cat_attributes['invoice_no'].apply( lambda x: bool( re.search( '[^0-9]+', x ) ) ), 'invoice_no'])\n",
    "\n",
    "# Quantity negative in rows with invoice number with letters\n",
    "c11 = len(df1.loc[df1['quantity'] < 0, 'invoice_no'].apply( lambda x: bool( re.search( '[^0-9]+', x ) ) ))\n",
    "\n",
    "print( f'Total number of unique invoice with letters: { a }' )\n",
    "print( f'Total number of invoice with letters: { b }' )\n",
    "print( f'Total number of negative quantity: { c11 }' )"
   ]
  },
  {
   "cell_type": "markdown",
   "id": "36748182",
   "metadata": {},
   "source": [
    "#### Stock Code"
   ]
  },
  {
   "cell_type": "code",
   "execution_count": 16,
   "id": "f71cb158",
   "metadata": {
    "ExecuteTime": {
     "end_time": "2023-05-13T23:41:58.292003Z",
     "start_time": "2023-05-13T23:41:57.809812Z"
    }
   },
   "outputs": [
    {
     "data": {
      "text/plain": [
       "0     85123A\n",
       "2     84406B\n",
       "3     84029G\n",
       "4     84029E\n",
       "45      POST\n",
       "Name: stock_code, dtype: object"
      ]
     },
     "execution_count": 16,
     "metadata": {},
     "output_type": "execute_result"
    }
   ],
   "source": [
    "# Stock code with letters\n",
    "cat_attributes.loc[cat_attributes['stock_code'].apply( lambda x: bool(re.search( '[^0-9]+', x ) ) ), 'stock_code'].head()"
   ]
  },
  {
   "cell_type": "code",
   "execution_count": 17,
   "id": "8a49a910",
   "metadata": {
    "ExecuteTime": {
     "end_time": "2023-05-13T23:41:58.756492Z",
     "start_time": "2023-05-13T23:41:58.296305Z"
    }
   },
   "outputs": [
    {
     "data": {
      "text/plain": [
       "array(['POST', 'D', 'DOT', 'M', 'S', 'AMAZONFEE', 'm', 'DCGSSBOY',\n",
       "       'DCGSSGIRL', 'PADS', 'B', 'CRUK'], dtype=object)"
      ]
     },
     "execution_count": 17,
     "metadata": {},
     "output_type": "execute_result"
    }
   ],
   "source": [
    "# Stock code only with letter\n",
    "cat_attributes.loc[cat_attributes['stock_code'].apply( lambda x: bool(re.search( '^[a-zA-Z]+$', x ) ) ), 'stock_code'].unique()\n",
    "\n",
    "# Action: remove these codes"
   ]
  },
  {
   "cell_type": "markdown",
   "id": "6ea98288",
   "metadata": {},
   "source": [
    "#### Description"
   ]
  },
  {
   "cell_type": "code",
   "execution_count": 18,
   "id": "11ca741d",
   "metadata": {
    "ExecuteTime": {
     "end_time": "2023-05-13T23:41:58.771647Z",
     "start_time": "2023-05-13T23:41:58.759584Z"
    }
   },
   "outputs": [
    {
     "data": {
      "text/html": [
       "<div>\n",
       "<style scoped>\n",
       "    .dataframe tbody tr th:only-of-type {\n",
       "        vertical-align: middle;\n",
       "    }\n",
       "\n",
       "    .dataframe tbody tr th {\n",
       "        vertical-align: top;\n",
       "    }\n",
       "\n",
       "    .dataframe thead th {\n",
       "        text-align: right;\n",
       "    }\n",
       "</style>\n",
       "<table border=\"1\" class=\"dataframe\">\n",
       "  <thead>\n",
       "    <tr style=\"text-align: right;\">\n",
       "      <th></th>\n",
       "      <th>invoice_no</th>\n",
       "      <th>stock_code</th>\n",
       "      <th>description</th>\n",
       "      <th>quantity</th>\n",
       "      <th>invoice_date</th>\n",
       "      <th>unit_price</th>\n",
       "      <th>country</th>\n",
       "      <th>customer_id</th>\n",
       "    </tr>\n",
       "  </thead>\n",
       "  <tbody>\n",
       "    <tr>\n",
       "      <th>0</th>\n",
       "      <td>536365</td>\n",
       "      <td>85123A</td>\n",
       "      <td>WHITE HANGING HEART T-LIGHT HOLDER</td>\n",
       "      <td>6</td>\n",
       "      <td>2016-11-29</td>\n",
       "      <td>2.55</td>\n",
       "      <td>United Kingdom</td>\n",
       "      <td>17850</td>\n",
       "    </tr>\n",
       "    <tr>\n",
       "      <th>1</th>\n",
       "      <td>536365</td>\n",
       "      <td>71053</td>\n",
       "      <td>WHITE METAL LANTERN</td>\n",
       "      <td>6</td>\n",
       "      <td>2016-11-29</td>\n",
       "      <td>3.39</td>\n",
       "      <td>United Kingdom</td>\n",
       "      <td>17850</td>\n",
       "    </tr>\n",
       "    <tr>\n",
       "      <th>2</th>\n",
       "      <td>536365</td>\n",
       "      <td>84406B</td>\n",
       "      <td>CREAM CUPID HEARTS COAT HANGER</td>\n",
       "      <td>8</td>\n",
       "      <td>2016-11-29</td>\n",
       "      <td>2.75</td>\n",
       "      <td>United Kingdom</td>\n",
       "      <td>17850</td>\n",
       "    </tr>\n",
       "    <tr>\n",
       "      <th>3</th>\n",
       "      <td>536365</td>\n",
       "      <td>84029G</td>\n",
       "      <td>KNITTED UNION FLAG HOT WATER BOTTLE</td>\n",
       "      <td>6</td>\n",
       "      <td>2016-11-29</td>\n",
       "      <td>3.39</td>\n",
       "      <td>United Kingdom</td>\n",
       "      <td>17850</td>\n",
       "    </tr>\n",
       "    <tr>\n",
       "      <th>4</th>\n",
       "      <td>536365</td>\n",
       "      <td>84029E</td>\n",
       "      <td>RED WOOLLY HOTTIE WHITE HEART.</td>\n",
       "      <td>6</td>\n",
       "      <td>2016-11-29</td>\n",
       "      <td>3.39</td>\n",
       "      <td>United Kingdom</td>\n",
       "      <td>17850</td>\n",
       "    </tr>\n",
       "  </tbody>\n",
       "</table>\n",
       "</div>"
      ],
      "text/plain": [
       "  invoice_no stock_code                          description  quantity  \\\n",
       "0     536365     85123A   WHITE HANGING HEART T-LIGHT HOLDER         6   \n",
       "1     536365      71053                  WHITE METAL LANTERN         6   \n",
       "2     536365     84406B       CREAM CUPID HEARTS COAT HANGER         8   \n",
       "3     536365     84029G  KNITTED UNION FLAG HOT WATER BOTTLE         6   \n",
       "4     536365     84029E       RED WOOLLY HOTTIE WHITE HEART.         6   \n",
       "\n",
       "  invoice_date  unit_price         country  customer_id  \n",
       "0   2016-11-29        2.55  United Kingdom        17850  \n",
       "1   2016-11-29        3.39  United Kingdom        17850  \n",
       "2   2016-11-29        2.75  United Kingdom        17850  \n",
       "3   2016-11-29        3.39  United Kingdom        17850  \n",
       "4   2016-11-29        3.39  United Kingdom        17850  "
      ]
     },
     "execution_count": 18,
     "metadata": {},
     "output_type": "execute_result"
    }
   ],
   "source": [
    "df1.head()"
   ]
  },
  {
   "cell_type": "markdown",
   "id": "389a1503",
   "metadata": {},
   "source": [
    "#### Country"
   ]
  },
  {
   "cell_type": "code",
   "execution_count": 19,
   "id": "6be2a3c1",
   "metadata": {
    "ExecuteTime": {
     "end_time": "2023-05-13T23:41:58.811545Z",
     "start_time": "2023-05-13T23:41:58.774065Z"
    }
   },
   "outputs": [
    {
     "data": {
      "text/plain": [
       "array(['United Kingdom', 'France', 'Australia', 'Netherlands', 'Germany',\n",
       "       'Norway', 'EIRE', 'Switzerland', 'Spain', 'Poland', 'Portugal',\n",
       "       'Italy', 'Belgium', 'Lithuania', 'Japan', 'Iceland',\n",
       "       'Channel Islands', 'Denmark', 'Cyprus', 'Sweden', 'Austria',\n",
       "       'Israel', 'Finland', 'Bahrain', 'Greece', 'Hong Kong', 'Singapore',\n",
       "       'Lebanon', 'United Arab Emirates', 'Saudi Arabia',\n",
       "       'Czech Republic', 'Canada', 'Unspecified', 'Brazil', 'USA',\n",
       "       'European Community', 'Malta', 'RSA'], dtype=object)"
      ]
     },
     "execution_count": 19,
     "metadata": {},
     "output_type": "execute_result"
    }
   ],
   "source": [
    "df1['country'].unique()"
   ]
  },
  {
   "cell_type": "code",
   "execution_count": 20,
   "id": "cf81123b",
   "metadata": {
    "ExecuteTime": {
     "end_time": "2023-05-13T23:41:58.851157Z",
     "start_time": "2023-05-13T23:41:58.815007Z"
    }
   },
   "outputs": [
    {
     "data": {
      "text/plain": [
       "United Kingdom    0.914320\n",
       "Germany           0.017521\n",
       "France            0.015790\n",
       "EIRE              0.015124\n",
       "Spain             0.004674\n",
       "Name: country, dtype: float64"
      ]
     },
     "execution_count": 20,
     "metadata": {},
     "output_type": "execute_result"
    }
   ],
   "source": [
    "df1['country'].value_counts( normalize=True ).head()"
   ]
  },
  {
   "cell_type": "markdown",
   "id": "504b03cb",
   "metadata": {},
   "source": [
    "# 2.0 DATA FILTERING"
   ]
  },
  {
   "cell_type": "code",
   "execution_count": 21,
   "id": "a2c6ddd2",
   "metadata": {
    "ExecuteTime": {
     "end_time": "2023-05-13T23:41:58.918812Z",
     "start_time": "2023-05-13T23:41:58.854915Z"
    }
   },
   "outputs": [],
   "source": [
    "df2 = df1.copy()"
   ]
  },
  {
   "cell_type": "code",
   "execution_count": 22,
   "id": "e8d8bcd9",
   "metadata": {
    "ExecuteTime": {
     "end_time": "2023-05-13T23:41:58.927015Z",
     "start_time": "2023-05-13T23:41:58.921590Z"
    }
   },
   "outputs": [
    {
     "data": {
      "text/plain": [
       "(541909, 8)"
      ]
     },
     "execution_count": 22,
     "metadata": {},
     "output_type": "execute_result"
    }
   ],
   "source": [
    "df2.shape"
   ]
  },
  {
   "cell_type": "markdown",
   "id": "fadcc816",
   "metadata": {},
   "source": [
    "## 2.1 Categorical Attributes Filtering"
   ]
  },
  {
   "cell_type": "code",
   "execution_count": 23,
   "id": "92a4b767",
   "metadata": {
    "ExecuteTime": {
     "end_time": "2023-05-13T23:41:59.052961Z",
     "start_time": "2023-05-13T23:41:58.929933Z"
    }
   },
   "outputs": [],
   "source": [
    "# Stock code != ['POST', 'D', 'DOT', 'M', 'S', 'AMAZONFEE', 'm', 'DCGSSBOY', 'DCGSSGIRL', 'PADS', 'B', 'CRUK']\n",
    "df2 = df2[~df2['stock_code'].isin( ['POST', 'D', 'DOT', 'M', 'S', 'AMAZONFEE', 'm', 'DCGSSBOY',\n",
    "       'DCGSSGIRL', 'PADS', 'B', 'CRUK'] )]\n",
    "\n",
    "# Drop description\n",
    "df2 = df2.drop( columns='description', axis=1 )\n",
    "\n",
    "# Map\n",
    "df2 = df2[~df2['country'].isin( ['European Community', 'Unspecified'] )]"
   ]
  },
  {
   "cell_type": "code",
   "execution_count": 24,
   "id": "bac5bfb7",
   "metadata": {
    "ExecuteTime": {
     "end_time": "2023-05-13T23:41:59.067509Z",
     "start_time": "2023-05-13T23:41:59.056614Z"
    }
   },
   "outputs": [
    {
     "data": {
      "text/html": [
       "<div>\n",
       "<style scoped>\n",
       "    .dataframe tbody tr th:only-of-type {\n",
       "        vertical-align: middle;\n",
       "    }\n",
       "\n",
       "    .dataframe tbody tr th {\n",
       "        vertical-align: top;\n",
       "    }\n",
       "\n",
       "    .dataframe thead th {\n",
       "        text-align: right;\n",
       "    }\n",
       "</style>\n",
       "<table border=\"1\" class=\"dataframe\">\n",
       "  <thead>\n",
       "    <tr style=\"text-align: right;\">\n",
       "      <th></th>\n",
       "      <th>invoice_no</th>\n",
       "      <th>stock_code</th>\n",
       "      <th>quantity</th>\n",
       "      <th>invoice_date</th>\n",
       "      <th>unit_price</th>\n",
       "      <th>country</th>\n",
       "      <th>customer_id</th>\n",
       "    </tr>\n",
       "  </thead>\n",
       "  <tbody>\n",
       "    <tr>\n",
       "      <th>0</th>\n",
       "      <td>536365</td>\n",
       "      <td>85123A</td>\n",
       "      <td>6</td>\n",
       "      <td>2016-11-29</td>\n",
       "      <td>2.55</td>\n",
       "      <td>United Kingdom</td>\n",
       "      <td>17850</td>\n",
       "    </tr>\n",
       "    <tr>\n",
       "      <th>1</th>\n",
       "      <td>536365</td>\n",
       "      <td>71053</td>\n",
       "      <td>6</td>\n",
       "      <td>2016-11-29</td>\n",
       "      <td>3.39</td>\n",
       "      <td>United Kingdom</td>\n",
       "      <td>17850</td>\n",
       "    </tr>\n",
       "    <tr>\n",
       "      <th>2</th>\n",
       "      <td>536365</td>\n",
       "      <td>84406B</td>\n",
       "      <td>8</td>\n",
       "      <td>2016-11-29</td>\n",
       "      <td>2.75</td>\n",
       "      <td>United Kingdom</td>\n",
       "      <td>17850</td>\n",
       "    </tr>\n",
       "    <tr>\n",
       "      <th>3</th>\n",
       "      <td>536365</td>\n",
       "      <td>84029G</td>\n",
       "      <td>6</td>\n",
       "      <td>2016-11-29</td>\n",
       "      <td>3.39</td>\n",
       "      <td>United Kingdom</td>\n",
       "      <td>17850</td>\n",
       "    </tr>\n",
       "    <tr>\n",
       "      <th>4</th>\n",
       "      <td>536365</td>\n",
       "      <td>84029E</td>\n",
       "      <td>6</td>\n",
       "      <td>2016-11-29</td>\n",
       "      <td>3.39</td>\n",
       "      <td>United Kingdom</td>\n",
       "      <td>17850</td>\n",
       "    </tr>\n",
       "  </tbody>\n",
       "</table>\n",
       "</div>"
      ],
      "text/plain": [
       "  invoice_no stock_code  quantity invoice_date  unit_price         country  \\\n",
       "0     536365     85123A         6   2016-11-29        2.55  United Kingdom   \n",
       "1     536365      71053         6   2016-11-29        3.39  United Kingdom   \n",
       "2     536365     84406B         8   2016-11-29        2.75  United Kingdom   \n",
       "3     536365     84029G         6   2016-11-29        3.39  United Kingdom   \n",
       "4     536365     84029E         6   2016-11-29        3.39  United Kingdom   \n",
       "\n",
       "   customer_id  \n",
       "0        17850  \n",
       "1        17850  \n",
       "2        17850  \n",
       "3        17850  \n",
       "4        17850  "
      ]
     },
     "execution_count": 24,
     "metadata": {},
     "output_type": "execute_result"
    }
   ],
   "source": [
    "df2.head()"
   ]
  },
  {
   "cell_type": "markdown",
   "id": "2eaf905c",
   "metadata": {},
   "source": [
    "## 2.2 Numerical Attributes Filtering"
   ]
  },
  {
   "cell_type": "code",
   "execution_count": 25,
   "id": "8b66a5eb",
   "metadata": {
    "ExecuteTime": {
     "end_time": "2023-05-13T23:41:59.197482Z",
     "start_time": "2023-05-13T23:41:59.070160Z"
    }
   },
   "outputs": [],
   "source": [
    "# Unit price < 0\n",
    "df2 = df2.loc[df2['unit_price'] >= 0.04, :]\n",
    "df2 = df2[~df2['customer_id'].isin( [16446] )]\n",
    "\n",
    "# Quantity\n",
    "df2_returns = df2.loc[df2['quantity'] < 0, :].copy()\n",
    "df2_purchase = df2.loc[df2['quantity'] > 0, :].copy()"
   ]
  },
  {
   "cell_type": "code",
   "execution_count": null,
   "id": "4a7ba269",
   "metadata": {},
   "outputs": [],
   "source": []
  },
  {
   "cell_type": "markdown",
   "id": "39cd30ba",
   "metadata": {},
   "source": [
    "# 3.0 FEATURE ENGINEERING"
   ]
  },
  {
   "cell_type": "code",
   "execution_count": 26,
   "id": "21c13813",
   "metadata": {
    "ExecuteTime": {
     "end_time": "2023-05-13T23:41:59.213104Z",
     "start_time": "2023-05-13T23:41:59.200549Z"
    }
   },
   "outputs": [],
   "source": [
    "df3 = df2.copy()"
   ]
  },
  {
   "cell_type": "code",
   "execution_count": 27,
   "id": "e303e450",
   "metadata": {
    "ExecuteTime": {
     "end_time": "2023-05-13T23:41:59.223324Z",
     "start_time": "2023-05-13T23:41:59.217037Z"
    }
   },
   "outputs": [
    {
     "data": {
      "text/plain": [
       "(536139, 7)"
      ]
     },
     "execution_count": 27,
     "metadata": {},
     "output_type": "execute_result"
    }
   ],
   "source": [
    "df3.shape"
   ]
  },
  {
   "cell_type": "markdown",
   "id": "53a5e456",
   "metadata": {},
   "source": [
    "## 3.1 Feature Creation"
   ]
  },
  {
   "cell_type": "code",
   "execution_count": 28,
   "id": "42c66d2f",
   "metadata": {
    "ExecuteTime": {
     "end_time": "2023-05-13T23:41:59.255134Z",
     "start_time": "2023-05-13T23:41:59.227079Z"
    }
   },
   "outputs": [
    {
     "data": {
      "text/html": [
       "<div>\n",
       "<style scoped>\n",
       "    .dataframe tbody tr th:only-of-type {\n",
       "        vertical-align: middle;\n",
       "    }\n",
       "\n",
       "    .dataframe tbody tr th {\n",
       "        vertical-align: top;\n",
       "    }\n",
       "\n",
       "    .dataframe thead th {\n",
       "        text-align: right;\n",
       "    }\n",
       "</style>\n",
       "<table border=\"1\" class=\"dataframe\">\n",
       "  <thead>\n",
       "    <tr style=\"text-align: right;\">\n",
       "      <th></th>\n",
       "      <th>customer_id</th>\n",
       "    </tr>\n",
       "  </thead>\n",
       "  <tbody>\n",
       "    <tr>\n",
       "      <th>0</th>\n",
       "      <td>17850</td>\n",
       "    </tr>\n",
       "    <tr>\n",
       "      <th>1</th>\n",
       "      <td>13047</td>\n",
       "    </tr>\n",
       "    <tr>\n",
       "      <th>2</th>\n",
       "      <td>12583</td>\n",
       "    </tr>\n",
       "    <tr>\n",
       "      <th>3</th>\n",
       "      <td>13748</td>\n",
       "    </tr>\n",
       "    <tr>\n",
       "      <th>4</th>\n",
       "      <td>15100</td>\n",
       "    </tr>\n",
       "  </tbody>\n",
       "</table>\n",
       "</div>"
      ],
      "text/plain": [
       "   customer_id\n",
       "0        17850\n",
       "1        13047\n",
       "2        12583\n",
       "3        13748\n",
       "4        15100"
      ]
     },
     "execution_count": 28,
     "metadata": {},
     "output_type": "execute_result"
    }
   ],
   "source": [
    "df_ref = df3.drop( columns=['invoice_no', 'stock_code', 'quantity',\n",
    "                            'invoice_date', 'unit_price','country'], \n",
    "                             axis=1 ).drop_duplicates( ignore_index=True )\n",
    "df_ref.head()"
   ]
  },
  {
   "cell_type": "markdown",
   "id": "f2ac5230",
   "metadata": {},
   "source": [
    "### 3.1.1 Gross Revenue"
   ]
  },
  {
   "cell_type": "code",
   "execution_count": 29,
   "id": "0aaa7212",
   "metadata": {
    "ExecuteTime": {
     "end_time": "2023-05-13T23:41:59.304339Z",
     "start_time": "2023-05-13T23:41:59.258725Z"
    }
   },
   "outputs": [
    {
     "data": {
      "text/plain": [
       "customer_id       0\n",
       "gross_revenue    91\n",
       "dtype: int64"
      ]
     },
     "execution_count": 29,
     "metadata": {},
     "output_type": "execute_result"
    }
   ],
   "source": [
    "# Gross Revenue\n",
    "df2_purchase['gross_revenue'] = df2_purchase['quantity'] * df2_purchase['unit_price']\n",
    "\n",
    "# Monetary\n",
    "df_monetary = df2_purchase[['customer_id', 'gross_revenue']].groupby( 'customer_id' ).sum().reset_index()\n",
    "df_ref = pd.merge( df_ref, df_monetary, on='customer_id', how='left' )\n",
    "\n",
    "df_ref.isna().sum()"
   ]
  },
  {
   "cell_type": "markdown",
   "id": "44f92ca4",
   "metadata": {},
   "source": [
    "### 3.1.2 Recency"
   ]
  },
  {
   "cell_type": "code",
   "execution_count": 30,
   "id": "c8ba9d6b",
   "metadata": {
    "ExecuteTime": {
     "end_time": "2023-05-13T23:41:59.338245Z",
     "start_time": "2023-05-13T23:41:59.306823Z"
    }
   },
   "outputs": [
    {
     "data": {
      "text/plain": [
       "customer_id       0\n",
       "gross_revenue    91\n",
       "recency_days     91\n",
       "dtype: int64"
      ]
     },
     "execution_count": 30,
     "metadata": {},
     "output_type": "execute_result"
    }
   ],
   "source": [
    "# Recency\n",
    "df_recency = df2_purchase[['customer_id', 'invoice_date']].groupby( 'customer_id' ).max().reset_index()\n",
    "df_recency['recency_days'] = (df2['invoice_date'].max() - df_recency['invoice_date']).dt.days\n",
    "df_recency = df_recency.drop( columns=['invoice_date'], axis=1 )\n",
    "df_ref = pd.merge( df_ref, df_recency, on='customer_id', how='left' )\n",
    "\n",
    "df_ref.isna().sum()"
   ]
  },
  {
   "cell_type": "markdown",
   "id": "e7b5f5b8",
   "metadata": {},
   "source": [
    "### 3.1.3 Total Quantity of  Purchases"
   ]
  },
  {
   "cell_type": "code",
   "execution_count": 31,
   "id": "c88ede58",
   "metadata": {
    "ExecuteTime": {
     "end_time": "2023-05-13T23:41:59.409243Z",
     "start_time": "2023-05-13T23:41:59.341103Z"
    }
   },
   "outputs": [
    {
     "data": {
      "text/plain": [
       "customer_id          0\n",
       "gross_revenue       91\n",
       "recency_days        91\n",
       "invoice_quantity    91\n",
       "dtype: int64"
      ]
     },
     "execution_count": 31,
     "metadata": {},
     "output_type": "execute_result"
    }
   ],
   "source": [
    "# Purchases\n",
    "df_freq = ( df2_purchase[['invoice_no', 'customer_id']].drop_duplicates()\n",
    "                                                     .groupby( 'customer_id' )\n",
    "                                                     .count()\n",
    "                                                     .reset_index()\n",
    "                                                     .rename( columns={'invoice_no': 'invoice_quantity'} ) )\n",
    "df_ref = pd.merge( df_ref, df_freq, on='customer_id', how='left' )\n",
    "\n",
    "df_ref.isna().sum()"
   ]
  },
  {
   "cell_type": "markdown",
   "id": "fe06ac33",
   "metadata": {},
   "source": [
    "### 3.1.4 Total Quantity of Items Purchased"
   ]
  },
  {
   "cell_type": "code",
   "execution_count": 32,
   "id": "567a0c79",
   "metadata": {
    "ExecuteTime": {
     "end_time": "2023-05-13T23:41:59.437891Z",
     "start_time": "2023-05-13T23:41:59.411924Z"
    }
   },
   "outputs": [
    {
     "data": {
      "text/plain": [
       "customer_id          0\n",
       "gross_revenue       91\n",
       "recency_days        91\n",
       "invoice_quantity    91\n",
       "items_quantity      91\n",
       "dtype: int64"
      ]
     },
     "execution_count": 32,
     "metadata": {},
     "output_type": "execute_result"
    }
   ],
   "source": [
    "# Products purchased\n",
    "df_freq = ( df2_purchase[['quantity', 'customer_id']].groupby( 'customer_id' )\n",
    "                                                   .sum().reset_index()\n",
    "                                                   .rename( columns={'quantity': 'items_quantity'} ) )\n",
    "df_ref = pd.merge( df_ref, df_freq, on='customer_id', how='left' )\n",
    "\n",
    "df_ref.isna().sum()"
   ]
  },
  {
   "cell_type": "markdown",
   "id": "cc56f944",
   "metadata": {},
   "source": [
    "### 3.1.5 Total Quantity of Products Purchased"
   ]
  },
  {
   "cell_type": "code",
   "execution_count": 33,
   "id": "1d59380b",
   "metadata": {
    "ExecuteTime": {
     "end_time": "2023-05-13T23:41:59.524535Z",
     "start_time": "2023-05-13T23:41:59.441167Z"
    }
   },
   "outputs": [
    {
     "data": {
      "text/plain": [
       "customer_id           0\n",
       "gross_revenue        91\n",
       "recency_days         91\n",
       "invoice_quantity     91\n",
       "items_quantity       91\n",
       "products_quantity    91\n",
       "dtype: int64"
      ]
     },
     "execution_count": 33,
     "metadata": {},
     "output_type": "execute_result"
    }
   ],
   "source": [
    "# Products purchased\n",
    "df_freq = ( df2_purchase[['stock_code', 'customer_id']].groupby( 'customer_id' )\n",
    "                                                       .count()\n",
    "                                                       .reset_index()\n",
    "                                                       .rename( columns={'stock_code': 'products_quantity'} ) )\n",
    "df_ref = pd.merge( df_ref, df_freq, on='customer_id', how='left' )\n",
    "\n",
    "df_ref.isna().sum()"
   ]
  },
  {
   "cell_type": "markdown",
   "id": "0604c6ae",
   "metadata": {},
   "source": [
    "### 3.1.6 Average Ticket Value"
   ]
  },
  {
   "cell_type": "code",
   "execution_count": 34,
   "id": "00d83df5",
   "metadata": {
    "ExecuteTime": {
     "end_time": "2023-05-13T23:41:59.551914Z",
     "start_time": "2023-05-13T23:41:59.526880Z"
    }
   },
   "outputs": [
    {
     "data": {
      "text/plain": [
       "customer_id           0\n",
       "gross_revenue        91\n",
       "recency_days         91\n",
       "invoice_quantity     91\n",
       "items_quantity       91\n",
       "products_quantity    91\n",
       "avg_ticket           91\n",
       "dtype: int64"
      ]
     },
     "execution_count": 34,
     "metadata": {},
     "output_type": "execute_result"
    }
   ],
   "source": [
    "# Avg ticket\n",
    "df_avg_ticket = df2_purchase[['customer_id', 'gross_revenue']].groupby( 'customer_id' ).mean().reset_index().rename( columns={'gross_revenue': 'avg_ticket'} )\n",
    "df_ref = pd.merge( df_ref, df_avg_ticket, how='left', on='customer_id' )\n",
    "\n",
    "df_ref.isna().sum()"
   ]
  },
  {
   "cell_type": "markdown",
   "id": "cb3999da",
   "metadata": {},
   "source": [
    "## 4.3 Space Study"
   ]
  },
  {
   "cell_type": "code",
   "execution_count": 40,
   "id": "e4c7fa6e",
   "metadata": {
    "ExecuteTime": {
     "end_time": "2023-05-13T23:45:48.469071Z",
     "start_time": "2023-05-13T23:45:48.460502Z"
    }
   },
   "outputs": [
    {
     "data": {
      "text/plain": [
       "customer_id          0\n",
       "gross_revenue        0\n",
       "recency_days         0\n",
       "invoice_quantity     0\n",
       "items_quantity       0\n",
       "products_quantity    0\n",
       "avg_ticket           0\n",
       "dtype: int64"
      ]
     },
     "execution_count": 40,
     "metadata": {},
     "output_type": "execute_result"
    }
   ],
   "source": [
    "df4 = df_ref.dropna().copy()\n",
    "df4.isna().sum()"
   ]
  },
  {
   "cell_type": "code",
   "execution_count": 41,
   "id": "0edfb0ef",
   "metadata": {
    "ExecuteTime": {
     "end_time": "2023-05-13T23:45:49.427399Z",
     "start_time": "2023-05-13T23:45:49.422227Z"
    }
   },
   "outputs": [],
   "source": [
    "cols_selected = ['customer_id', 'gross_revenue', 'recency_days', 'invoice_quantity',\n",
    "       'items_quantity', 'products_quantity', 'avg_ticket', ]\n",
    "df43 = df4[ cols_selected ].drop( columns='customer_id', axis=1 )"
   ]
  },
  {
   "cell_type": "code",
   "execution_count": 43,
   "id": "3f19bd15",
   "metadata": {
    "ExecuteTime": {
     "end_time": "2023-05-13T23:46:11.763370Z",
     "start_time": "2023-05-13T23:46:11.735734Z"
    }
   },
   "outputs": [],
   "source": [
    "mm = pp.MinMaxScaler()\n",
    "\n",
    "\n",
    "df43['gross_revenue']          = mm.fit_transform( df43[['gross_revenue']] )\n",
    "df43['recency_days']           = mm.fit_transform( df43[['recency_days']] )\n",
    "df43['invoice_quantity']       = mm.fit_transform( df43[['invoice_quantity']] )\n",
    "df43['items_quantity']         = mm.fit_transform( df43[['items_quantity']] )\n",
    "df43['products_quantity']      = mm.fit_transform( df43[['products_quantity']] )\n",
    "df43['avg_ticket']             = mm.fit_transform( df43[['avg_ticket']] )"
   ]
  },
  {
   "cell_type": "code",
   "execution_count": 44,
   "id": "8c5db3b2",
   "metadata": {
    "ExecuteTime": {
     "end_time": "2023-05-13T23:46:12.540025Z",
     "start_time": "2023-05-13T23:46:12.535899Z"
    }
   },
   "outputs": [],
   "source": [
    "XX = df43.copy()"
   ]
  },
  {
   "cell_type": "code",
   "execution_count": 45,
   "id": "628b4ce5",
   "metadata": {
    "ExecuteTime": {
     "end_time": "2023-05-13T23:46:13.351664Z",
     "start_time": "2023-05-13T23:46:13.346937Z"
    }
   },
   "outputs": [
    {
     "data": {
      "text/plain": [
       "(5695, 6)"
      ]
     },
     "execution_count": 45,
     "metadata": {},
     "output_type": "execute_result"
    }
   ],
   "source": [
    "XX.shape"
   ]
  },
  {
   "cell_type": "markdown",
   "id": "25ba45f8",
   "metadata": {},
   "source": [
    "### 4.3.4 Tree-Based Embedding"
   ]
  },
  {
   "cell_type": "code",
   "execution_count": 46,
   "id": "f8987349",
   "metadata": {
    "ExecuteTime": {
     "end_time": "2023-05-14T00:00:20.841711Z",
     "start_time": "2023-05-14T00:00:18.873916Z"
    }
   },
   "outputs": [],
   "source": [
    "# Traning Dataset\n",
    "X = df43.drop( columns=[ 'gross_revenue' ], axis=1 ).copy()\n",
    "y = df43['gross_revenue'].copy()\n",
    "\n",
    "# Model Definition\n",
    "rf_model = en.RandomForestRegressor( n_estimators=100, random_state=42 )\n",
    "\n",
    "# Model Training\n",
    "rf_model.fit( X, y )\n",
    "\n",
    "# Leaf\n",
    "df_leaf = pd.DataFrame( rf_model.apply( X ) )"
   ]
  },
  {
   "cell_type": "code",
   "execution_count": 47,
   "id": "9c780881",
   "metadata": {
    "ExecuteTime": {
     "end_time": "2023-05-14T00:00:44.190960Z",
     "start_time": "2023-05-14T00:00:20.845474Z"
    }
   },
   "outputs": [],
   "source": [
    "reducer = umap.UMAP( random_state=42 )\n",
    "embedding = reducer.fit_transform( df_leaf )\n",
    "\n",
    "# embedding\n",
    "df_tree = pd.DataFrame()\n",
    "df_tree['embedding_x'] = embedding[:, 0]\n",
    "df_tree['embedding_y'] = embedding[:, 1]"
   ]
  },
  {
   "cell_type": "markdown",
   "id": "4cd5d387",
   "metadata": {},
   "source": [
    "# 7.0 HYPERPARAMETER FINE TUNING"
   ]
  },
  {
   "cell_type": "code",
   "execution_count": 48,
   "id": "6ce7b081",
   "metadata": {
    "ExecuteTime": {
     "end_time": "2023-05-14T00:00:44.198383Z",
     "start_time": "2023-05-14T00:00:44.194031Z"
    }
   },
   "outputs": [],
   "source": [
    "X = df_tree.copy()"
   ]
  },
  {
   "cell_type": "markdown",
   "id": "ef6ab233",
   "metadata": {},
   "source": [
    "# 8.0 MODEL TRAINING"
   ]
  },
  {
   "cell_type": "code",
   "execution_count": 49,
   "id": "33895b86",
   "metadata": {
    "ExecuteTime": {
     "end_time": "2023-05-14T00:00:44.411648Z",
     "start_time": "2023-05-14T00:00:44.200898Z"
    }
   },
   "outputs": [],
   "source": [
    "k = 7\n",
    "# Model Definition\n",
    "gmm_model = mx.GaussianMixture( n_components=k, random_state=42 )\n",
    "\n",
    "# Model Training\n",
    "gmm_model.fit( X )\n",
    "\n",
    "# Model Predict\n",
    "labels = gmm_model.predict( X )"
   ]
  },
  {
   "cell_type": "markdown",
   "id": "ef559872",
   "metadata": {},
   "source": [
    "# 9.0 CLUSTER ANALYSIS"
   ]
  },
  {
   "cell_type": "markdown",
   "id": "ec826fd2",
   "metadata": {},
   "source": [
    "## 9.2 Cluster Profile"
   ]
  },
  {
   "cell_type": "code",
   "execution_count": 50,
   "id": "7702e850",
   "metadata": {
    "ExecuteTime": {
     "end_time": "2023-05-14T00:00:44.426088Z",
     "start_time": "2023-05-14T00:00:44.415874Z"
    }
   },
   "outputs": [],
   "source": [
    "df92 = df4[ cols_selected ].copy()\n",
    "df92['cluster'] = labels\n",
    "df92.head()\n",
    "\n",
    "# Change Types\n",
    "df92['recency_days'] = df92['recency_days'].astype( int )\n",
    "df92['invoice_quantity'] = df92['invoice_quantity'].astype( int )\n",
    "df92['items_quantity'] = df92['items_quantity'].astype( int )\n",
    "df92['products_quantity'] = df92['products_quantity'].astype( int )"
   ]
  },
  {
   "cell_type": "code",
   "execution_count": 51,
   "id": "df1746a8",
   "metadata": {
    "ExecuteTime": {
     "end_time": "2023-05-14T00:00:44.471282Z",
     "start_time": "2023-05-14T00:00:44.429531Z"
    }
   },
   "outputs": [
    {
     "data": {
      "text/html": [
       "<div>\n",
       "<style scoped>\n",
       "    .dataframe tbody tr th:only-of-type {\n",
       "        vertical-align: middle;\n",
       "    }\n",
       "\n",
       "    .dataframe tbody tr th {\n",
       "        vertical-align: top;\n",
       "    }\n",
       "\n",
       "    .dataframe thead th {\n",
       "        text-align: right;\n",
       "    }\n",
       "</style>\n",
       "<table border=\"1\" class=\"dataframe\">\n",
       "  <thead>\n",
       "    <tr style=\"text-align: right;\">\n",
       "      <th></th>\n",
       "      <th>cluster</th>\n",
       "      <th>customer_id</th>\n",
       "      <th>perc_customer</th>\n",
       "      <th>gross_revenue</th>\n",
       "      <th>recency_days</th>\n",
       "      <th>invoice_quantity</th>\n",
       "      <th>items_quantity</th>\n",
       "      <th>products_quantity</th>\n",
       "      <th>avg_ticket</th>\n",
       "    </tr>\n",
       "  </thead>\n",
       "  <tbody>\n",
       "    <tr>\n",
       "      <th>0</th>\n",
       "      <td>0</td>\n",
       "      <td>815</td>\n",
       "      <td>14.310799</td>\n",
       "      <td>76.075902</td>\n",
       "      <td>192.395092</td>\n",
       "      <td>1.060123</td>\n",
       "      <td>20.132515</td>\n",
       "      <td>7.916564</td>\n",
       "      <td>16.907160</td>\n",
       "    </tr>\n",
       "    <tr>\n",
       "      <th>1</th>\n",
       "      <td>1</td>\n",
       "      <td>739</td>\n",
       "      <td>12.976295</td>\n",
       "      <td>1779.037835</td>\n",
       "      <td>63.626522</td>\n",
       "      <td>4.239513</td>\n",
       "      <td>914.860622</td>\n",
       "      <td>123.205683</td>\n",
       "      <td>29.220581</td>\n",
       "    </tr>\n",
       "    <tr>\n",
       "      <th>2</th>\n",
       "      <td>2</td>\n",
       "      <td>1675</td>\n",
       "      <td>29.411765</td>\n",
       "      <td>340.956066</td>\n",
       "      <td>150.951642</td>\n",
       "      <td>1.460896</td>\n",
       "      <td>144.414925</td>\n",
       "      <td>28.309254</td>\n",
       "      <td>22.764703</td>\n",
       "    </tr>\n",
       "    <tr>\n",
       "      <th>3</th>\n",
       "      <td>3</td>\n",
       "      <td>543</td>\n",
       "      <td>9.534680</td>\n",
       "      <td>8487.322670</td>\n",
       "      <td>59.467772</td>\n",
       "      <td>10.821363</td>\n",
       "      <td>4917.725599</td>\n",
       "      <td>277.922652</td>\n",
       "      <td>234.952142</td>\n",
       "    </tr>\n",
       "    <tr>\n",
       "      <th>4</th>\n",
       "      <td>4</td>\n",
       "      <td>972</td>\n",
       "      <td>17.067603</td>\n",
       "      <td>749.449671</td>\n",
       "      <td>107.255144</td>\n",
       "      <td>2.152263</td>\n",
       "      <td>385.333333</td>\n",
       "      <td>54.225309</td>\n",
       "      <td>25.512477</td>\n",
       "    </tr>\n",
       "    <tr>\n",
       "      <th>5</th>\n",
       "      <td>5</td>\n",
       "      <td>525</td>\n",
       "      <td>9.218613</td>\n",
       "      <td>4305.565695</td>\n",
       "      <td>52.066667</td>\n",
       "      <td>8.064762</td>\n",
       "      <td>2489.603810</td>\n",
       "      <td>227.152381</td>\n",
       "      <td>45.856868</td>\n",
       "    </tr>\n",
       "    <tr>\n",
       "      <th>6</th>\n",
       "      <td>6</td>\n",
       "      <td>426</td>\n",
       "      <td>7.480246</td>\n",
       "      <td>1313.011362</td>\n",
       "      <td>106.476526</td>\n",
       "      <td>2.636150</td>\n",
       "      <td>483.823944</td>\n",
       "      <td>139.948357</td>\n",
       "      <td>11.451611</td>\n",
       "    </tr>\n",
       "  </tbody>\n",
       "</table>\n",
       "</div>"
      ],
      "text/plain": [
       "   cluster  customer_id  perc_customer  gross_revenue  recency_days  \\\n",
       "0        0          815      14.310799      76.075902    192.395092   \n",
       "1        1          739      12.976295    1779.037835     63.626522   \n",
       "2        2         1675      29.411765     340.956066    150.951642   \n",
       "3        3          543       9.534680    8487.322670     59.467772   \n",
       "4        4          972      17.067603     749.449671    107.255144   \n",
       "5        5          525       9.218613    4305.565695     52.066667   \n",
       "6        6          426       7.480246    1313.011362    106.476526   \n",
       "\n",
       "   invoice_quantity  items_quantity  products_quantity  avg_ticket  \n",
       "0          1.060123       20.132515           7.916564   16.907160  \n",
       "1          4.239513      914.860622         123.205683   29.220581  \n",
       "2          1.460896      144.414925          28.309254   22.764703  \n",
       "3         10.821363     4917.725599         277.922652  234.952142  \n",
       "4          2.152263      385.333333          54.225309   25.512477  \n",
       "5          8.064762     2489.603810         227.152381   45.856868  \n",
       "6          2.636150      483.823944         139.948357   11.451611  "
      ]
     },
     "execution_count": 51,
     "metadata": {},
     "output_type": "execute_result"
    }
   ],
   "source": [
    "# Number of customers\n",
    "df_cluster = df92[['customer_id', 'cluster']].groupby( 'cluster' ).count().reset_index()\n",
    "df_cluster['perc_customer'] = 100 * df_cluster['customer_id'] / df_cluster['customer_id'].sum()\n",
    "\n",
    "# Avg gross revenue \n",
    "df_avg_gross = df92[['gross_revenue', 'cluster']].groupby( 'cluster' ).mean().reset_index()\n",
    "df_cluster = pd.merge( df_cluster, df_avg_gross, how='inner', on='cluster' )\n",
    "\n",
    "# Avg recency days\n",
    "df_recency_days = df92[['recency_days', 'cluster']].groupby( 'cluster' ).mean().reset_index()\n",
    "df_cluster = pd.merge( df_cluster, df_recency_days, how='inner', on='cluster' )\n",
    "\n",
    "# Avg invoice_no\n",
    "df_avg_invoice = df92[['invoice_quantity', 'cluster']].groupby( 'cluster' ).mean().reset_index()\n",
    "df_cluster = pd.merge( df_cluster, df_avg_invoice, how='inner', on='cluster' )\n",
    "\n",
    "# Items Quantity\n",
    "df_items_quantity = df92[['items_quantity', 'cluster']].groupby( 'cluster' ).mean().reset_index()\n",
    "df_cluster = pd.merge( df_cluster, df_items_quantity, how='inner', on='cluster' )\n",
    "\n",
    "# Products Quantity\n",
    "df_products_quantity = df92[['products_quantity', 'cluster']].groupby( 'cluster' ).mean().reset_index()\n",
    "df_cluster = pd.merge( df_cluster, df_products_quantity, how='inner', on='cluster' )\n",
    "\n",
    "# Avg ticket by cluster\n",
    "df_avg_ticket_cluster = df92[['cluster', 'avg_ticket']].groupby( 'cluster' ).mean().reset_index()\n",
    "df_cluster = pd.merge( df_cluster, df_avg_ticket_cluster, how='inner', on='cluster' )\n",
    "\n",
    "df_cluster"
   ]
  },
  {
   "cell_type": "markdown",
   "id": "002ebe52",
   "metadata": {
    "ExecuteTime": {
     "end_time": "2023-01-27T14:01:15.158631Z",
     "start_time": "2023-01-27T14:01:15.153314Z"
    }
   },
   "source": [
    "3 Cluster Insiders\n",
    "\n",
    "5 Cluster More Items\n",
    "\n",
    "1 Cluster More Products\n",
    "\n",
    "6 Cluster More Gross Revenue\n",
    "\n",
    "4 Cluster Even More Products\n",
    "\n",
    "2 Cluster More Products and Items\n",
    "\n",
    "0 Cluster Ibernate"
   ]
  },
  {
   "cell_type": "markdown",
   "id": "0aa07d4e",
   "metadata": {},
   "source": [
    " ### Cluster 1 (Insiders)\n",
    "    - Número de Customers: 292, que representam 9,83% da base.\n",
    "    - Faturamento Médio: $15086,34.\n",
    "    - Compraram a última vez a 21 dias na média.\n",
    "    - Compraram 9085 itens na média.\n",
    "    - Retornam na média 226 produtos no total.\n",
    "    \n",
    "    \n",
    "    \n",
    "### Cluster 2 \n",
    "    - Representam 99,15% da base.\n",
    "    - Gastaram em média $1372,57.\n",
    "    - Compraram a última vez 92 dias atrás na média.\n",
    "    - Compraram 4 itens na média.\n",
    "\n",
    "\n",
    "\n",
    "    \n",
    "### Cluster 3\n",
    "    - Representam 0,70% da base.\n",
    "    - Gastaram $40543,51 na média.\n",
    "    - Compraram a última vez 13 dias atrás na média.\n",
    "    - Compraram 53 unidades na média."
   ]
  },
  {
   "cell_type": "markdown",
   "id": "dd3c343a",
   "metadata": {},
   "source": [
    "# 11.0 DEPLOY TO PRODUCTION"
   ]
  },
  {
   "cell_type": "code",
   "execution_count": 46,
   "id": "ab8a4b79",
   "metadata": {
    "ExecuteTime": {
     "end_time": "2023-02-06T21:56:29.733039Z",
     "start_time": "2023-02-06T21:56:29.722966Z"
    }
   },
   "outputs": [
    {
     "data": {
      "text/html": [
       "<div>\n",
       "<style scoped>\n",
       "    .dataframe tbody tr th:only-of-type {\n",
       "        vertical-align: middle;\n",
       "    }\n",
       "\n",
       "    .dataframe tbody tr th {\n",
       "        vertical-align: top;\n",
       "    }\n",
       "\n",
       "    .dataframe thead th {\n",
       "        text-align: right;\n",
       "    }\n",
       "</style>\n",
       "<table border=\"1\" class=\"dataframe\">\n",
       "  <thead>\n",
       "    <tr style=\"text-align: right;\">\n",
       "      <th></th>\n",
       "      <th>customer_id</th>\n",
       "      <th>gross_revenue</th>\n",
       "      <th>recency_days</th>\n",
       "      <th>invoice_quantity</th>\n",
       "      <th>items_quantity</th>\n",
       "      <th>products_quantity</th>\n",
       "      <th>avg_ticket</th>\n",
       "      <th>cluster</th>\n",
       "    </tr>\n",
       "  </thead>\n",
       "  <tbody>\n",
       "    <tr>\n",
       "      <th>0</th>\n",
       "      <td>17850</td>\n",
       "      <td>5391.21</td>\n",
       "      <td>372</td>\n",
       "      <td>34</td>\n",
       "      <td>1733</td>\n",
       "      <td>297</td>\n",
       "      <td>18.152222</td>\n",
       "      <td>5</td>\n",
       "    </tr>\n",
       "    <tr>\n",
       "      <th>1</th>\n",
       "      <td>13047</td>\n",
       "      <td>3232.59</td>\n",
       "      <td>56</td>\n",
       "      <td>9</td>\n",
       "      <td>1390</td>\n",
       "      <td>171</td>\n",
       "      <td>18.904035</td>\n",
       "      <td>5</td>\n",
       "    </tr>\n",
       "    <tr>\n",
       "      <th>2</th>\n",
       "      <td>12583</td>\n",
       "      <td>6705.38</td>\n",
       "      <td>2</td>\n",
       "      <td>15</td>\n",
       "      <td>5028</td>\n",
       "      <td>232</td>\n",
       "      <td>28.902500</td>\n",
       "      <td>3</td>\n",
       "    </tr>\n",
       "    <tr>\n",
       "      <th>3</th>\n",
       "      <td>13748</td>\n",
       "      <td>948.25</td>\n",
       "      <td>95</td>\n",
       "      <td>5</td>\n",
       "      <td>439</td>\n",
       "      <td>28</td>\n",
       "      <td>33.866071</td>\n",
       "      <td>4</td>\n",
       "    </tr>\n",
       "    <tr>\n",
       "      <th>4</th>\n",
       "      <td>15100</td>\n",
       "      <td>876.00</td>\n",
       "      <td>333</td>\n",
       "      <td>3</td>\n",
       "      <td>80</td>\n",
       "      <td>3</td>\n",
       "      <td>292.000000</td>\n",
       "      <td>2</td>\n",
       "    </tr>\n",
       "  </tbody>\n",
       "</table>\n",
       "</div>"
      ],
      "text/plain": [
       "   customer_id  gross_revenue  recency_days  invoice_quantity  items_quantity  \\\n",
       "0        17850        5391.21           372                34            1733   \n",
       "1        13047        3232.59            56                 9            1390   \n",
       "2        12583        6705.38             2                15            5028   \n",
       "3        13748         948.25            95                 5             439   \n",
       "4        15100         876.00           333                 3              80   \n",
       "\n",
       "   products_quantity  avg_ticket  cluster  \n",
       "0                297   18.152222        5  \n",
       "1                171   18.904035        5  \n",
       "2                232   28.902500        3  \n",
       "3                 28   33.866071        4  \n",
       "4                  3  292.000000        2  "
      ]
     },
     "execution_count": 46,
     "metadata": {},
     "output_type": "execute_result"
    }
   ],
   "source": [
    "df92.head()"
   ]
  },
  {
   "cell_type": "code",
   "execution_count": 47,
   "id": "076b3e6c",
   "metadata": {
    "ExecuteTime": {
     "end_time": "2023-02-06T21:56:29.748103Z",
     "start_time": "2023-02-06T21:56:29.735197Z"
    }
   },
   "outputs": [
    {
     "data": {
      "text/plain": [
       "customer_id            int64\n",
       "gross_revenue        float64\n",
       "recency_days           int64\n",
       "invoice_quantity       int64\n",
       "items_quantity         int64\n",
       "products_quantity      int64\n",
       "avg_ticket           float64\n",
       "cluster                int64\n",
       "dtype: object"
      ]
     },
     "execution_count": 47,
     "metadata": {},
     "output_type": "execute_result"
    }
   ],
   "source": [
    "df92.dtypes"
   ]
  },
  {
   "cell_type": "markdown",
   "id": "20ea46b7",
   "metadata": {},
   "source": [
    "## 11.1 Insert Data Into SQLITE"
   ]
  },
  {
   "cell_type": "code",
   "execution_count": 49,
   "id": "fe7528fa",
   "metadata": {
    "ExecuteTime": {
     "end_time": "2023-05-11T23:05:01.077328Z",
     "start_time": "2023-05-11T23:05:01.059572Z"
    }
   },
   "outputs": [],
   "source": [
    "# # Create Query\n",
    "# query_create_table_insiders = \"\"\"\n",
    "#     CREATE TABLE insiders (\n",
    "#         customer_id            INTEGER,\n",
    "#         gross_revenue          REAL,\n",
    "#         recency_days           INTEGER,\n",
    "#         invoice_quantity       INTEGER,\n",
    "#         items_quantity         INTEGER,\n",
    "#         products_quantity      INTEGER,\n",
    "#         avg_ticket             REAL,\n",
    "#         cluster                INTEGER\n",
    "    \n",
    "#     )\n",
    "\n",
    "# \"\"\"\n",
    "\n",
    "# # Connect and Create Table\n",
    "# conn = sqlite3.connect( '../data/sqlite/insiders_db.sqlite' )\n",
    "# conn.execute( query_create_table_insiders )\n",
    "# conn.commit()\n",
    "# conn.close()\n",
    "\n",
    "# Insert Data\n",
    "conn = create_engine( 'sqlite:///../data/sqlite/insiders_db.sqlite' )\n",
    "# df92.to_sql( 'insiders', con=conn, if_exists='append', index=False )\n",
    "\n",
    "# Select Data\n",
    "\n"
   ]
  },
  {
   "cell_type": "code",
   "execution_count": 50,
   "id": "4485e68b",
   "metadata": {
    "ExecuteTime": {
     "end_time": "2023-05-11T23:05:02.612898Z",
     "start_time": "2023-05-11T23:05:02.583674Z"
    }
   },
   "outputs": [],
   "source": [
    "# Consulting Database\n",
    "query_consulting = \"\"\"\n",
    "    SELECT * FROM insiders\n",
    "\"\"\"\n",
    "df_consulting = pd.read_sql_query( query_consulting, conn )"
   ]
  },
  {
   "cell_type": "code",
   "execution_count": 51,
   "id": "c47d128a",
   "metadata": {
    "ExecuteTime": {
     "end_time": "2023-05-11T23:05:03.976671Z",
     "start_time": "2023-05-11T23:05:03.966429Z"
    }
   },
   "outputs": [
    {
     "data": {
      "text/html": [
       "<div>\n",
       "<style scoped>\n",
       "    .dataframe tbody tr th:only-of-type {\n",
       "        vertical-align: middle;\n",
       "    }\n",
       "\n",
       "    .dataframe tbody tr th {\n",
       "        vertical-align: top;\n",
       "    }\n",
       "\n",
       "    .dataframe thead th {\n",
       "        text-align: right;\n",
       "    }\n",
       "</style>\n",
       "<table border=\"1\" class=\"dataframe\">\n",
       "  <thead>\n",
       "    <tr style=\"text-align: right;\">\n",
       "      <th></th>\n",
       "      <th>customer_id</th>\n",
       "      <th>gross_revenue</th>\n",
       "      <th>recency_days</th>\n",
       "      <th>invoice_quantity</th>\n",
       "      <th>items_quantity</th>\n",
       "      <th>products_quantity</th>\n",
       "      <th>avg_ticket</th>\n",
       "      <th>cluster</th>\n",
       "    </tr>\n",
       "  </thead>\n",
       "  <tbody>\n",
       "    <tr>\n",
       "      <th>0</th>\n",
       "      <td>17850</td>\n",
       "      <td>5391.21</td>\n",
       "      <td>372</td>\n",
       "      <td>34</td>\n",
       "      <td>1733</td>\n",
       "      <td>297</td>\n",
       "      <td>18.152222</td>\n",
       "      <td>5</td>\n",
       "    </tr>\n",
       "    <tr>\n",
       "      <th>1</th>\n",
       "      <td>13047</td>\n",
       "      <td>3232.59</td>\n",
       "      <td>56</td>\n",
       "      <td>9</td>\n",
       "      <td>1390</td>\n",
       "      <td>171</td>\n",
       "      <td>18.904035</td>\n",
       "      <td>5</td>\n",
       "    </tr>\n",
       "    <tr>\n",
       "      <th>2</th>\n",
       "      <td>12583</td>\n",
       "      <td>6705.38</td>\n",
       "      <td>2</td>\n",
       "      <td>15</td>\n",
       "      <td>5028</td>\n",
       "      <td>232</td>\n",
       "      <td>28.902500</td>\n",
       "      <td>3</td>\n",
       "    </tr>\n",
       "    <tr>\n",
       "      <th>3</th>\n",
       "      <td>13748</td>\n",
       "      <td>948.25</td>\n",
       "      <td>95</td>\n",
       "      <td>5</td>\n",
       "      <td>439</td>\n",
       "      <td>28</td>\n",
       "      <td>33.866071</td>\n",
       "      <td>4</td>\n",
       "    </tr>\n",
       "    <tr>\n",
       "      <th>4</th>\n",
       "      <td>15100</td>\n",
       "      <td>876.00</td>\n",
       "      <td>333</td>\n",
       "      <td>3</td>\n",
       "      <td>80</td>\n",
       "      <td>3</td>\n",
       "      <td>292.000000</td>\n",
       "      <td>2</td>\n",
       "    </tr>\n",
       "  </tbody>\n",
       "</table>\n",
       "</div>"
      ],
      "text/plain": [
       "   customer_id  gross_revenue  recency_days  invoice_quantity  items_quantity  \\\n",
       "0        17850        5391.21           372                34            1733   \n",
       "1        13047        3232.59            56                 9            1390   \n",
       "2        12583        6705.38             2                15            5028   \n",
       "3        13748         948.25            95                 5             439   \n",
       "4        15100         876.00           333                 3              80   \n",
       "\n",
       "   products_quantity  avg_ticket  cluster  \n",
       "0                297   18.152222        5  \n",
       "1                171   18.904035        5  \n",
       "2                232   28.902500        3  \n",
       "3                 28   33.866071        4  \n",
       "4                  3  292.000000        2  "
      ]
     },
     "execution_count": 51,
     "metadata": {},
     "output_type": "execute_result"
    }
   ],
   "source": [
    "df_consulting.head()"
   ]
  },
  {
   "cell_type": "code",
   "execution_count": null,
   "id": "09b57ef9",
   "metadata": {
    "ExecuteTime": {
     "end_time": "2023-02-06T21:56:29.918929Z",
     "start_time": "2023-02-06T21:56:29.918915Z"
    }
   },
   "outputs": [],
   "source": [
    "df_consulting = df_consulting.drop_duplicates()"
   ]
  },
  {
   "cell_type": "code",
   "execution_count": 52,
   "id": "a46d7fa7",
   "metadata": {
    "ExecuteTime": {
     "end_time": "2023-02-06T21:56:55.067901Z",
     "start_time": "2023-02-06T21:56:55.063313Z"
    }
   },
   "outputs": [
    {
     "data": {
      "text/plain": [
       "(5695, 8)"
      ]
     },
     "execution_count": 52,
     "metadata": {},
     "output_type": "execute_result"
    }
   ],
   "source": [
    "df_consulting.shape"
   ]
  },
  {
   "cell_type": "code",
   "execution_count": null,
   "id": "00ba0ea7",
   "metadata": {},
   "outputs": [],
   "source": []
  },
  {
   "cell_type": "code",
   "execution_count": null,
   "id": "a453bea8",
   "metadata": {},
   "outputs": [],
   "source": []
  },
  {
   "cell_type": "code",
   "execution_count": null,
   "id": "1405634d",
   "metadata": {},
   "outputs": [],
   "source": []
  },
  {
   "cell_type": "code",
   "execution_count": null,
   "id": "9f73c2e4",
   "metadata": {},
   "outputs": [],
   "source": []
  },
  {
   "cell_type": "code",
   "execution_count": null,
   "id": "7a515180",
   "metadata": {},
   "outputs": [],
   "source": []
  },
  {
   "cell_type": "code",
   "execution_count": null,
   "id": "b267afc2",
   "metadata": {},
   "outputs": [],
   "source": []
  }
 ],
 "metadata": {
  "kernelspec": {
   "display_name": "pa005_loyalty_program",
   "language": "python",
   "name": "pa005_loyalty_program"
  },
  "language_info": {
   "codemirror_mode": {
    "name": "ipython",
    "version": 3
   },
   "file_extension": ".py",
   "mimetype": "text/x-python",
   "name": "python",
   "nbconvert_exporter": "python",
   "pygments_lexer": "ipython3",
   "version": "3.8.10"
  }
 },
 "nbformat": 4,
 "nbformat_minor": 5
}
